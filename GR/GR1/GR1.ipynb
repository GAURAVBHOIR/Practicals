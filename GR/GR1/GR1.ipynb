{
 "cells": [
  {
   "cell_type": "code",
   "execution_count": 7,
   "metadata": {},
   "outputs": [
    {
     "name": "stdout",
     "output_type": "stream",
     "text": [
      "Schwarzschild Metric Tensor:\n"
     ]
    },
    {
     "data": {
      "text/latex": [
       "$\\displaystyle \\left[\\begin{matrix}1 - \\frac{r_{s}}{r} & 0 & 0 & 0\\\\0 & - \\frac{1}{c^{2} \\cdot \\left(1 - \\frac{r_{s}}{r}\\right)} & 0 & 0\\\\0 & 0 & - \\frac{r^{2}}{c^{2}} & 0\\\\0 & 0 & 0 & - \\frac{r^{2} \\sin^{2}{\\left(\\theta \\right)}}{c^{2}}\\end{matrix}\\right]$"
      ],
      "text/plain": [
       "⎡    rₛ                                 ⎤\n",
       "⎢1 - ──       0        0         0      ⎥\n",
       "⎢    r                                  ⎥\n",
       "⎢                                       ⎥\n",
       "⎢            -1                         ⎥\n",
       "⎢  0     ───────────   0         0      ⎥\n",
       "⎢         2 ⎛    rₛ⎞                    ⎥\n",
       "⎢        c ⋅⎜1 - ──⎟                    ⎥\n",
       "⎢           ⎝    r ⎠                    ⎥\n",
       "⎢                                       ⎥\n",
       "⎢                       2               ⎥\n",
       "⎢                     -r                ⎥\n",
       "⎢  0          0       ────       0      ⎥\n",
       "⎢                       2               ⎥\n",
       "⎢                      c                ⎥\n",
       "⎢                                       ⎥\n",
       "⎢                             2    2    ⎥\n",
       "⎢                           -r ⋅sin (θ) ⎥\n",
       "⎢  0          0        0    ────────────⎥\n",
       "⎢                                 2     ⎥\n",
       "⎣                                c      ⎦"
      ]
     },
     "metadata": {},
     "output_type": "display_data"
    },
    {
     "name": "stdout",
     "output_type": "stream",
     "text": [
      "Inverse of Schwarzschild Metric Tensor:\n"
     ]
    },
    {
     "data": {
      "text/latex": [
       "$\\displaystyle \\left[\\begin{matrix}\\frac{r}{r - r_{s}} & 0 & 0 & 0\\\\0 & \\frac{c^{2} \\left(- r + r_{s}\\right)}{r} & 0 & 0\\\\0 & 0 & - \\frac{c^{2}}{r^{2}} & 0\\\\0 & 0 & 0 & - \\frac{c^{2}}{r^{2} \\sin^{2}{\\left(\\theta \\right)}}\\end{matrix}\\right]$"
      ],
      "text/plain": [
       "⎡  r                                   ⎤\n",
       "⎢──────       0         0        0     ⎥\n",
       "⎢r - rₛ                                ⎥\n",
       "⎢                                      ⎥\n",
       "⎢         2                            ⎥\n",
       "⎢        c ⋅(-r + rₛ)                  ⎥\n",
       "⎢  0     ────────────   0        0     ⎥\n",
       "⎢             r                        ⎥\n",
       "⎢                                      ⎥\n",
       "⎢                        2             ⎥\n",
       "⎢                      -c              ⎥\n",
       "⎢  0          0        ────      0     ⎥\n",
       "⎢                        2             ⎥\n",
       "⎢                       r              ⎥\n",
       "⎢                                      ⎥\n",
       "⎢                                 2    ⎥\n",
       "⎢                               -c     ⎥\n",
       "⎢  0          0         0    ──────────⎥\n",
       "⎢                             2    2   ⎥\n",
       "⎣                            r ⋅sin (θ)⎦"
      ]
     },
     "metadata": {},
     "output_type": "display_data"
    },
    {
     "name": "stdout",
     "output_type": "stream",
     "text": [
      "Order of Schwarzschild metric tensor: 2\n",
      "Configuration of Schwarzschild metric tensor: ll\n",
      "Christoffel Symbols:\n"
     ]
    },
    {
     "data": {
      "text/latex": [
       "$\\displaystyle \\left[\\begin{matrix}\\left[\\begin{matrix}0 & \\frac{r_{s}}{2 r^{2} \\cdot \\left(1 - \\frac{r_{s}}{r}\\right)} & 0 & 0\\\\\\frac{r_{s}}{2 r^{2} \\cdot \\left(1 - \\frac{r_{s}}{r}\\right)} & 0 & 0 & 0\\\\0 & 0 & 0 & 0\\\\0 & 0 & 0 & 0\\end{matrix}\\right] & \\left[\\begin{matrix}- \\frac{r_{s} \\left(- \\frac{c^{2}}{2} + \\frac{r_{s} c^{2}}{2 r}\\right)}{r^{2}} & 0 & 0 & 0\\\\0 & \\frac{r_{s} \\left(- \\frac{c^{2}}{2} + \\frac{r_{s} c^{2}}{2 r}\\right)}{r^{2} c^{2} \\left(1 - \\frac{r_{s}}{r}\\right)^{2}} & 0 & 0\\\\0 & 0 & \\frac{2 r \\left(- \\frac{c^{2}}{2} + \\frac{r_{s} c^{2}}{2 r}\\right)}{c^{2}} & 0\\\\0 & 0 & 0 & \\frac{2 r \\left(- \\frac{c^{2}}{2} + \\frac{r_{s} c^{2}}{2 r}\\right) \\sin^{2}{\\left(\\theta \\right)}}{c^{2}}\\end{matrix}\\right] & \\left[\\begin{matrix}0 & 0 & 0 & 0\\\\0 & 0 & \\frac{1}{r} & 0\\\\0 & \\frac{1}{r} & 0 & 0\\\\0 & 0 & 0 & - \\sin{\\left(\\theta \\right)} \\cos{\\left(\\theta \\right)}\\end{matrix}\\right] & \\left[\\begin{matrix}0 & 0 & 0 & 0\\\\0 & 0 & 0 & \\frac{1}{r}\\\\0 & 0 & 0 & \\frac{\\cos{\\left(\\theta \\right)}}{\\sin{\\left(\\theta \\right)}}\\\\0 & \\frac{1}{r} & \\frac{\\cos{\\left(\\theta \\right)}}{\\sin{\\left(\\theta \\right)}} & 0\\end{matrix}\\right]\\end{matrix}\\right]$"
      ],
      "text/plain": [
       "⎡                                      ⎡    ⎛   2       2⎞                    \n",
       "⎢                                      ⎢    ⎜  c    rₛ⋅c ⎟                    \n",
       "⎢                                      ⎢-rₛ⋅⎜- ── + ─────⎟                    \n",
       "⎢                                      ⎢    ⎝  2     2⋅r ⎠                    \n",
       "⎢                                      ⎢───────────────────          0        \n",
       "⎢                                      ⎢          2                           \n",
       "⎢                                      ⎢         r                            \n",
       "⎢                                      ⎢                                      \n",
       "⎢                                      ⎢                        ⎛   2       2⎞\n",
       "⎢⎡                     rₛ           ⎤  ⎢                        ⎜  c    rₛ⋅c ⎟\n",
       "⎢⎢      0        ─────────────  0  0⎥  ⎢                     rₛ⋅⎜- ── + ─────⎟\n",
       "⎢⎢                  2 ⎛    rₛ⎞      ⎥  ⎢                        ⎝  2     2⋅r ⎠\n",
       "⎢⎢               2⋅r ⋅⎜1 - ──⎟      ⎥  ⎢         0           ─────────────────\n",
       "⎢⎢                    ⎝    r ⎠      ⎥  ⎢                                    2 \n",
       "⎢⎢                                  ⎥  ⎢                       2  2 ⎛    rₛ⎞  \n",
       "⎢⎢      rₛ                          ⎥  ⎢                      r ⋅c ⋅⎜1 - ──⎟  \n",
       "⎢⎢─────────────        0        0  0⎥  ⎢                            ⎝    r ⎠  \n",
       "⎢⎢   2 ⎛    rₛ⎞                     ⎥  ⎢                                      \n",
       "⎢⎢2⋅r ⋅⎜1 - ──⎟                     ⎥  ⎢                                      \n",
       "⎢⎢     ⎝    r ⎠                     ⎥  ⎢                                      \n",
       "⎢⎢                                  ⎥  ⎢                                      \n",
       "⎢⎢      0              0        0  0⎥  ⎢                                      \n",
       "⎢⎢                                  ⎥  ⎢         0                   0        \n",
       "⎢⎣      0              0        0  0⎦  ⎢                                      \n",
       "⎢                                      ⎢                                      \n",
       "⎢                                      ⎢                                      \n",
       "⎢                                      ⎢                                      \n",
       "⎢                                      ⎢                                      \n",
       "⎢                                      ⎢                                      \n",
       "⎢                                      ⎢                                      \n",
       "⎢                                      ⎢         0                   0        \n",
       "⎢                                      ⎢                                      \n",
       "⎣                                      ⎣                                      \n",
       "\n",
       "                                                ⎤                             \n",
       "                                                ⎥                             \n",
       "                                                ⎥                             \n",
       "                                                ⎥                             \n",
       "          0                       0             ⎥                             \n",
       "                                                ⎥                             \n",
       "                                                ⎥                             \n",
       "                                                ⎥                             \n",
       "                                                ⎥                             \n",
       "                                                ⎥                             \n",
       "                                                ⎥                             \n",
       "                                                ⎥  ⎡0  0  0        0       ⎤  \n",
       "          0                       0             ⎥  ⎢                       ⎥  \n",
       "                                                ⎥  ⎢      1                ⎥  \n",
       "                                                ⎥  ⎢0  0  ─        0       ⎥  \n",
       "                                                ⎥  ⎢      r                ⎥  \n",
       "                                                ⎥  ⎢                       ⎥  \n",
       "                                                ⎥  ⎢   1                   ⎥  \n",
       "      ⎛   2       2⎞                            ⎥  ⎢0  ─  0        0       ⎥  \n",
       "      ⎜  c    rₛ⋅c ⎟                            ⎥  ⎢   r                   ⎥  \n",
       "  2⋅r⋅⎜- ── + ─────⎟                            ⎥  ⎢                       ⎥  \n",
       "      ⎝  2     2⋅r ⎠                            ⎥  ⎣0  0  0  -sin(θ)⋅cos(θ)⎦  \n",
       "  ──────────────────              0             ⎥                             \n",
       "           2                                    ⎥                             \n",
       "          c                                     ⎥                             \n",
       "                                                ⎥                             \n",
       "                          ⎛   2       2⎞        ⎥                             \n",
       "                          ⎜  c    rₛ⋅c ⎟    2   ⎥                             \n",
       "                      2⋅r⋅⎜- ── + ─────⎟⋅sin (θ)⎥                             \n",
       "                          ⎝  2     2⋅r ⎠        ⎥                             \n",
       "          0           ──────────────────────────⎥                             \n",
       "                                   2            ⎥                             \n",
       "                                  c             ⎦                             \n",
       "\n",
       "                      ⎤\n",
       "                      ⎥\n",
       "                      ⎥\n",
       "                      ⎥\n",
       "                      ⎥\n",
       "                      ⎥\n",
       "                      ⎥\n",
       "                      ⎥\n",
       "                      ⎥\n",
       "                      ⎥\n",
       "⎡0  0    0       0   ⎤⎥\n",
       "⎢                    ⎥⎥\n",
       "⎢                1   ⎥⎥\n",
       "⎢0  0    0       ─   ⎥⎥\n",
       "⎢                r   ⎥⎥\n",
       "⎢                    ⎥⎥\n",
       "⎢              cos(θ)⎥⎥\n",
       "⎢0  0    0     ──────⎥⎥\n",
       "⎢              sin(θ)⎥⎥\n",
       "⎢                    ⎥⎥\n",
       "⎢   1  cos(θ)        ⎥⎥\n",
       "⎢0  ─  ──────    0   ⎥⎥\n",
       "⎣   r  sin(θ)        ⎦⎥\n",
       "                      ⎥\n",
       "                      ⎥\n",
       "                      ⎥\n",
       "                      ⎥\n",
       "                      ⎥\n",
       "                      ⎥\n",
       "                      ⎥\n",
       "                      ⎥\n",
       "                      ⎥\n",
       "                      ⎦"
      ]
     },
     "metadata": {},
     "output_type": "display_data"
    },
    {
     "name": "stdout",
     "output_type": "stream",
     "text": [
      "Configuration of Christoffel symbols: ull\n",
      "Christoffel Symbols (lll configuration):\n"
     ]
    },
    {
     "data": {
      "text/latex": [
       "$\\displaystyle \\left[\\begin{matrix}\\left[\\begin{matrix}0 & \\frac{r_{s}}{2 r^{2}} & 0 & 0\\\\\\frac{r_{s}}{2 r^{2}} & 0 & 0 & 0\\\\0 & 0 & 0 & 0\\\\0 & 0 & 0 & 0\\end{matrix}\\right] & \\left[\\begin{matrix}- \\frac{r_{s}}{2 r^{2}} & 0 & 0 & 0\\\\0 & \\frac{r_{s}}{2 c^{2} \\left(r - r_{s}\\right)^{2}} & 0 & 0\\\\0 & 0 & \\frac{r}{c^{2}} & 0\\\\0 & 0 & 0 & \\frac{r \\sin^{2}{\\left(\\theta \\right)}}{c^{2}}\\end{matrix}\\right] & \\left[\\begin{matrix}0 & 0 & 0 & 0\\\\0 & 0 & - \\frac{r}{c^{2}} & 0\\\\0 & - \\frac{r}{c^{2}} & 0 & 0\\\\0 & 0 & 0 & \\frac{r^{2} \\sin{\\left(2 \\theta \\right)}}{2 c^{2}}\\end{matrix}\\right] & \\left[\\begin{matrix}0 & 0 & 0 & 0\\\\0 & 0 & 0 & - \\frac{r \\sin^{2}{\\left(\\theta \\right)}}{c^{2}}\\\\0 & 0 & 0 & - \\frac{r^{2} \\sin{\\left(2 \\theta \\right)}}{2 c^{2}}\\\\0 & - \\frac{r \\sin^{2}{\\left(\\theta \\right)}}{c^{2}} & - \\frac{r^{2} \\sin{\\left(2 \\theta \\right)}}{2 c^{2}} & 0\\end{matrix}\\right]\\end{matrix}\\right]$"
      ],
      "text/plain": [
       "⎡                    ⎡-rₛ                                ⎤                    \n",
       "⎢                    ⎢────        0         0       0    ⎥                    \n",
       "⎢                    ⎢   2                               ⎥  ⎡0   0    0       \n",
       "⎢                    ⎢2⋅r                                ⎥  ⎢                 \n",
       "⎢⎡       rₛ       ⎤  ⎢                                   ⎥  ⎢        -r       \n",
       "⎢⎢ 0    ────  0  0⎥  ⎢            rₛ                     ⎥  ⎢0   0   ───      \n",
       "⎢⎢         2      ⎥  ⎢ 0    ──────────────  0       0    ⎥  ⎢          2      \n",
       "⎢⎢      2⋅r       ⎥  ⎢         2         2               ⎥  ⎢         c       \n",
       "⎢⎢                ⎥  ⎢      2⋅c ⋅(r - rₛ)                ⎥  ⎢                 \n",
       "⎢⎢ rₛ             ⎥  ⎢                                   ⎥  ⎢   -r            \n",
       "⎢⎢────   0    0  0⎥  ⎢                      r            ⎥  ⎢0  ───   0       \n",
       "⎢⎢   2            ⎥  ⎢ 0          0         ──      0    ⎥  ⎢     2           \n",
       "⎢⎢2⋅r             ⎥  ⎢                       2           ⎥  ⎢    c            \n",
       "⎢⎢                ⎥  ⎢                      c            ⎥  ⎢                 \n",
       "⎢⎢ 0     0    0  0⎥  ⎢                                   ⎥  ⎢              2  \n",
       "⎢⎢                ⎥  ⎢                               2   ⎥  ⎢             r ⋅s\n",
       "⎢⎣ 0     0    0  0⎦  ⎢                          r⋅sin (θ)⎥  ⎢0   0    0   ────\n",
       "⎢                    ⎢ 0          0         0   ─────────⎥  ⎢                 \n",
       "⎢                    ⎢                               2   ⎥  ⎣                 \n",
       "⎣                    ⎣                              c    ⎦                    \n",
       "\n",
       "                                                        ⎤\n",
       "          ⎡0       0             0              0      ⎤⎥\n",
       " 0     ⎤  ⎢                                            ⎥⎥\n",
       "       ⎥  ⎢                                      2     ⎥⎥\n",
       "       ⎥  ⎢                                -r⋅sin (θ)  ⎥⎥\n",
       " 0     ⎥  ⎢0       0             0         ─────────── ⎥⎥\n",
       "       ⎥  ⎢                                      2     ⎥⎥\n",
       "       ⎥  ⎢                                     c      ⎥⎥\n",
       "       ⎥  ⎢                                            ⎥⎥\n",
       "       ⎥  ⎢                                 2          ⎥⎥\n",
       " 0     ⎥  ⎢                               -r ⋅sin(2⋅θ) ⎥⎥\n",
       "       ⎥  ⎢0       0             0        ─────────────⎥⎥\n",
       "       ⎥  ⎢                                       2    ⎥⎥\n",
       "       ⎥  ⎢                                    2⋅c     ⎥⎥\n",
       "       ⎥  ⎢                                            ⎥⎥\n",
       "in(2⋅θ)⎥  ⎢         2        2                         ⎥⎥\n",
       "───────⎥  ⎢   -r⋅sin (θ)   -r ⋅sin(2⋅θ)                ⎥⎥\n",
       "   2   ⎥  ⎢0  ───────────  ─────────────        0      ⎥⎥\n",
       "2⋅c    ⎦  ⎢         2              2                   ⎥⎥\n",
       "          ⎣        c            2⋅c                    ⎦⎦"
      ]
     },
     "metadata": {},
     "output_type": "display_data"
    },
    {
     "name": "stdout",
     "output_type": "stream",
     "text": [
      "New configuration of Christoffel symbols: lll\n",
      "Riemann Curvature Tensor:\n"
     ]
    },
    {
     "data": {
      "text/latex": [
       "$\\displaystyle \\left[\\begin{matrix}0 & 0 & 0 & 0\\\\0 & 0 & 0 & 0\\\\0 & 0 & 0 & 0\\\\0 & 0 & 0 & 0\\end{matrix}\\right]$"
      ],
      "text/plain": [
       "⎡0  0  0  0⎤\n",
       "⎢          ⎥\n",
       "⎢0  0  0  0⎥\n",
       "⎢          ⎥\n",
       "⎢0  0  0  0⎥\n",
       "⎢          ⎥\n",
       "⎣0  0  0  0⎦"
      ]
     },
     "metadata": {},
     "output_type": "display_data"
    },
    {
     "data": {
      "text/latex": [
       "$\\displaystyle \\left[\\begin{matrix}0 & 0 & 0 & 0\\\\0 & 0 & 0 & 0\\\\0 & 0 & 0 & 0\\\\0 & 0 & 0 & 0\\end{matrix}\\right]$"
      ],
      "text/plain": [
       "⎡0  0  0  0⎤\n",
       "⎢          ⎥\n",
       "⎢0  0  0  0⎥\n",
       "⎢          ⎥\n",
       "⎢0  0  0  0⎥\n",
       "⎢          ⎥\n",
       "⎣0  0  0  0⎦"
      ]
     },
     "metadata": {},
     "output_type": "display_data"
    },
    {
     "data": {
      "text/latex": [
       "$\\displaystyle \\left[\\begin{matrix}0 & 0 & 0 & 0\\\\0 & 0 & 0 & 0\\\\0 & 0 & 0 & 0\\\\0 & 0 & 0 & 0\\end{matrix}\\right]$"
      ],
      "text/plain": [
       "⎡0  0  0  0⎤\n",
       "⎢          ⎥\n",
       "⎢0  0  0  0⎥\n",
       "⎢          ⎥\n",
       "⎢0  0  0  0⎥\n",
       "⎢          ⎥\n",
       "⎣0  0  0  0⎦"
      ]
     },
     "metadata": {},
     "output_type": "display_data"
    },
    {
     "data": {
      "text/latex": [
       "$\\displaystyle \\left[\\begin{matrix}0 & 0 & 0 & 0\\\\0 & 0 & 0 & 0\\\\0 & 0 & 0 & 0\\\\0 & 0 & 0 & 0\\end{matrix}\\right]$"
      ],
      "text/plain": [
       "⎡0  0  0  0⎤\n",
       "⎢          ⎥\n",
       "⎢0  0  0  0⎥\n",
       "⎢          ⎥\n",
       "⎢0  0  0  0⎥\n",
       "⎢          ⎥\n",
       "⎣0  0  0  0⎦"
      ]
     },
     "metadata": {},
     "output_type": "display_data"
    },
    {
     "data": {
      "text/plain": [
       "(None, None, None, None)"
      ]
     },
     "execution_count": 7,
     "metadata": {},
     "output_type": "execute_result"
    }
   ],
   "source": [
    "import sympy\n",
    "from einsteinpy.symbolic import ChristoffelSymbols, RiemannCurvatureTensor\n",
    "from einsteinpy.symbolic.predefined import Schwarzschild\n",
    "sympy.init_printing()\n",
    "sch = Schwarzschild()\n",
    "print(\"Schwarzschild Metric Tensor:\")\n",
    "display(sch.tensor())\n",
    "sch_inv = sch.inv()\n",
    "print(\"Inverse of Schwarzschild Metric Tensor:\")\n",
    "display(sch_inv.tensor())\n",
    "print(\"Order of Schwarzschild metric tensor:\", sch.order)\n",
    "print(\"Configuration of Schwarzschild metric tensor:\", sch.config)\n",
    "chr = ChristoffelSymbols.from_metric(sch_inv)\n",
    "print(\"Christoffel Symbols:\")\n",
    "display(chr.tensor())\n",
    "print(\"Configuration of Christoffel symbols:\", chr.config)\n",
    "new_chr = chr.change_config('lll')\n",
    "print(\"Christoffel Symbols (lll configuration):\")\n",
    "display(new_chr.tensor())\n",
    "print(\"New configuration of Christoffel symbols:\", new_chr.config)\n",
    "rm = RiemannCurvatureTensor.from_christoffels(new_chr)\n",
    "print(\"Riemann Curvature Tensor:\")\n",
    "rm2 = rm.change_config(\"uuuu\")\n",
    "rm3 = rm2.change_config(\"lulu\")\n",
    "rm4 = rm3.change_config(\"ulll\")\n",
    "rm4.simplify()\n",
    "display(rm[0, 0, :, :]),display(rm2[0, 0, :, :]),display(rm3[0, 0, :, :]),display(rm4[0, 0, :, :])"
   ]
  }
 ],
 "metadata": {
  "kernelspec": {
   "display_name": "Python 3",
   "language": "python",
   "name": "python3"
  },
  "language_info": {
   "codemirror_mode": {
    "name": "ipython",
    "version": 3
   },
   "file_extension": ".py",
   "mimetype": "text/x-python",
   "name": "python",
   "nbconvert_exporter": "python",
   "pygments_lexer": "ipython3",
   "version": "3.12.4"
  }
 },
 "nbformat": 4,
 "nbformat_minor": 2
}
